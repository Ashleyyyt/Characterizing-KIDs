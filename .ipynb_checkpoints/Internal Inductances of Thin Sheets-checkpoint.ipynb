{
 "cells": [
  {
   "cell_type": "markdown",
   "id": "90e95d11",
   "metadata": {},
   "source": [
    "# 1. Effects of varying film thickness for $L_{m}$ and $L_{k}$ on a square film"
   ]
  },
  {
   "cell_type": "code",
   "execution_count": 2,
   "id": "f24d21a2",
   "metadata": {},
   "outputs": [],
   "source": [
    "#Imports\n",
    "import numpy as np\n",
    "import matplotlib.pyplot as plt\n",
    "%matplotlib inline\n",
    "\n",
    "def coth(x):\n",
    "    return np.cosh(x)/np.sinh(x)\n",
    "\n",
    "def cosec(x):\n",
    "    return 1/np.sin(x)"
   ]
  },
  {
   "cell_type": "markdown",
   "id": "54725ca3",
   "metadata": {},
   "source": [
    "### Using the fixed value of $\\lambda = 50nm$, varying thickness t, and the equation for the Kinetic Inductance in $H/Square$:\n",
    "### $L_{k} = \\frac{\\mu_{0}\\lambda^{2}}{t}$"
   ]
  },
  {
   "cell_type": "code",
   "execution_count": 3,
   "id": "34f012ff",
   "metadata": {},
   "outputs": [],
   "source": [
    "#Defining lambda, miu_0 and lower and upper limit of t\n",
    "lam = 50*10**-9\n",
    "miu_0 = 1.25663706212*10**-6\n",
    "lowerLimit, upperLimit = 20e-9, 300e-9\n",
    "\n",
    "#Create array of varying thickness t\n",
    "t = np.linspace(lowerLimit, upperLimit, num=1000)\n",
    "\n",
    "#Calculating lk\n",
    "lk = (miu_0 * lam**2)/t"
   ]
  },
  {
   "cell_type": "markdown",
   "id": "4a66a539",
   "metadata": {},
   "source": [
    "### The total internal inductance is given by: $L_{int} = \\frac{\\mu_{0}\\lambda}{2}coth(\\frac{t}{2\\lambda})$"
   ]
  },
  {
   "cell_type": "code",
   "execution_count": 4,
   "id": "ed8e7a98",
   "metadata": {},
   "outputs": [],
   "source": [
    "#Calculating total inductance\n",
    "l_int = (miu_0 * lam/2)*coth(t/(2*lam))"
   ]
  },
  {
   "cell_type": "markdown",
   "id": "93250d51",
   "metadata": {},
   "source": [
    "### Since $L_int$ is the sum of $L_k$ and $L_m$, the magnetic inductance $L_m$ is given by:\n",
    "### $L_m = L_{int} - L_k$"
   ]
  },
  {
   "cell_type": "code",
   "execution_count": 5,
   "id": "c63cb4d6",
   "metadata": {},
   "outputs": [],
   "source": [
    "#Calculating magnetic inductance\n",
    "lm = l_int - lk"
   ]
  },
  {
   "cell_type": "markdown",
   "id": "b293ace4",
   "metadata": {},
   "source": [
    "### Calculating the ratios of the inductances to the total inductance:"
   ]
  },
  {
   "cell_type": "code",
   "execution_count": 6,
   "id": "21af8bbc",
   "metadata": {},
   "outputs": [],
   "source": [
    "#Ratios\n",
    "ratio_lm = lm/l_int\n",
    "ratio_lk = lk/l_int"
   ]
  },
  {
   "cell_type": "markdown",
   "id": "442499a9",
   "metadata": {},
   "source": [
    "### Plotting the ratios of the inductance and the inductance to the film thickness t:"
   ]
  },
  {
   "cell_type": "code",
   "execution_count": 13,
   "id": "64e08e74",
   "metadata": {},
   "outputs": [
    {
     "data": {
      "image/png": "[encoded data removed]",
      "text/plain": [
       "<Figure size 432x288 with 2 Axes>"
      ]
     },
     "metadata": {
      "needs_background": "light"
     },
     "output_type": "display_data"
    }
   ],
   "source": [
    "#Subplots\n",
    "plt.subplot(2,1,1)\n",
    "params = {'mathtext.default': 'regular' }          \n",
    "plt.rcParams.update(params)\n",
    "plt.plot(t*10**9, ratio_lm, 'r-', label = '$L_{m}:L_{int}$')\n",
    "plt.plot(t*10**9, ratio_lk, 'k-', label = '$L_{k}:L_{int}$')\n",
    "plt.legend(loc='center left', bbox_to_anchor=(1, 0.5))\n",
    "plt.ylabel('Ratio of inductances to total')\n",
    "plt.grid()\n",
    "plt.title('Effects of varying t on $L_{int}$')\n",
    "\n",
    "plt.subplot(2,1,2)\n",
    "plt.plot(t*10**9, lm*10**12, 'r-', label = '$L_m$')\n",
    "plt.plot(t*10**9, lk*10**12, 'k-', label = '$L_k$')\n",
    "plt.legend(loc='center left', bbox_to_anchor=(1, 0.5))\n",
    "plt.xlabel('thickness t / nm')\n",
    "plt.ylabel('Inductances L / pH')\n",
    "plt.grid()"
   ]
  },
  {
   "cell_type": "markdown",
   "id": "128ac77c",
   "metadata": {},
   "source": [
    "## 2. Internal Inductance For Aluminium Square"
   ]
  },
  {
   "cell_type": "markdown",
   "id": "36d84377",
   "metadata": {},
   "source": [
    "### The parameters were defined as:\n",
    "\n",
    "#### electron-density of aluminium, $n = 1.8 \\times 10^{28}$  <br> Critical temperature, $T_{c} = 1.4 K$ <br> Temperature, $T = 0.3 K$ <br> Thickness, $t = 50 nm$"
   ]
  },
  {
   "cell_type": "code",
   "execution_count": 8,
   "id": "139fc9ee",
   "metadata": {},
   "outputs": [],
   "source": [
    "#Define variables\n",
    "n = 1.8e28\n",
    "temp_c = 1.4 \n",
    "temp = 0.3\n",
    "t_al = 50e-9\n",
    "e = 1.6e-19\n",
    "me = 9.11e-31\n",
    "\n",
    "#"
   ]
  },
  {
   "cell_type": "markdown",
   "id": "6b503dac",
   "metadata": {},
   "source": [
    "### We can first use the parameters defined to find the density of Cooper pair electrons: <br> $n_{s} = n[1- (\\frac{T}{T_c})^{4}]$\n",
    "\n",
    "### At 0 K, $n_s$ is simply equal to the electron density."
   ]
  },
  {
   "cell_type": "markdown",
   "id": "7c4c0e22",
   "metadata": {},
   "source": [
    "### We can then determine the London Penetration Depth $\\lambda_{L}$ at 0 K using the following expression:\n",
    "### $\\lambda_{L} = \\sqrt{\\frac{m}{\\mu_{0}n_{s}e^{2}}} $"
   ]
  },
  {
   "cell_type": "code",
   "execution_count": 9,
   "id": "2ab6d0f2",
   "metadata": {},
   "outputs": [],
   "source": [
    "lam0 = (me/(miu_0*n*e**2))*0.5"
   ]
  },
  {
   "cell_type": "markdown",
   "id": "57fb155b",
   "metadata": {},
   "source": [
    "### We can then determine the temperature dependent London Penetration Depth using the following expression:\n",
    "### $\\lambda_L(T) = \\lambda_L(0)[1-(\\frac{T}{T_c})^{4}]^{-\\frac{1}{2}}$"
   ]
  },
  {
   "cell_type": "code",
   "execution_count": 10,
   "id": "30684f65",
   "metadata": {},
   "outputs": [],
   "source": [
    "lamL = lam0*(1 - (temp/temp_c)**4)**-0.5"
   ]
  },
  {
   "cell_type": "markdown",
   "id": "2f653426",
   "metadata": {},
   "source": [
    "### The internal inductance of a square sheet of material is simply given by the equation previously:\n",
    "### $L_{int} = \\frac{\\mu_{0}\\lambda}{2}coth(\\frac{t}{2\\lambda})$"
   ]
  },
  {
   "cell_type": "code",
   "execution_count": 11,
   "id": "e8be3ac7",
   "metadata": {},
   "outputs": [
    {
     "name": "stderr",
     "output_type": "stream",
     "text": [
      "<ipython-input-2-79196205df90>:7: RuntimeWarning: overflow encountered in cosh\n",
      "  return np.cosh(x)/np.sinh(x)\n",
      "<ipython-input-2-79196205df90>:7: RuntimeWarning: overflow encountered in sinh\n",
      "  return np.cosh(x)/np.sinh(x)\n",
      "<ipython-input-2-79196205df90>:7: RuntimeWarning: invalid value encountered in double_scalars\n",
      "  return np.cosh(x)/np.sinh(x)\n"
     ]
    }
   ],
   "source": [
    "#Internal inductance of a aluminium\n",
    "l_int_al = (miu_0 * lamL/2)*coth(t_al/(2*lamL))"
   ]
  }
 ],
 "metadata": {
  "kernelspec": {
   "display_name": "Python 3",
   "language": "python",
   "name": "python3"
  },
  "language_info": {
   "codemirror_mode": {
    "name": "ipython",
    "version": 3
   },
   "file_extension": ".py",
   "mimetype": "text/x-python",
   "name": "python",
   "nbconvert_exporter": "python",
   "pygments_lexer": "ipython3",
   "version": "3.8.8"
  }
 },
 "nbformat": 4,
 "nbformat_minor": 5
}
